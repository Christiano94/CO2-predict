{
  "cells": [
    {
      "cell_type": "markdown",
      "metadata": {
        "id": "kXFCCsVHTtTP"
      },
      "source": [
        "This project aims to build a machine learning algorithm based on multiple linear regression to predict CO2 Capture on carbonaceous biomass. "
      ]
    },
    {
      "cell_type": "code",
      "execution_count": null,
      "metadata": {
        "id": "nWvIcticlCs2"
      },
      "outputs": [],
      "source": [
        "import numpy as np\n",
        "import pandas as pd\n",
        "import matplotlib.pyplot as plt\n",
        "import scipy.stats as stats\n",
        "from sklearn.model_selection import train_test_split\n",
        "from sklearn.linear_model import LinearRegression\n",
        "from sklearn.metrics import mean_absolute_error, mean_squared_error\n",
        "from sklearn.model_selection import KFold\n",
        "from sklearn.model_selection import cross_val_score, cross_val_predict\n",
        "import statsmodels.formula.api as smf\n",
        "from statsmodels.compat import lzip\n",
        "import statsmodels.stats.api as sms\n",
        "import seaborn as sns"
      ]
    },
    {
      "cell_type": "code",
      "execution_count": null,
      "metadata": {
        "id": "LRIrwcC8kUhT"
      },
      "outputs": [],
      "source": [
        "df = pd.read_excel('./df_MA.xlsx')\n",
        "df.head(5)"
      ]
    },
    {
      "cell_type": "code",
      "execution_count": null,
      "metadata": {},
      "outputs": [],
      "source": [
        "df.describe()"
      ]
    },
    {
      "cell_type": "markdown",
      "metadata": {
        "id": "BxBX5HD17FZn"
      },
      "source": [
        "**Features**\n",
        "\n",
        "BET: BET Surface area (m2/g).\n",
        "\n",
        "Vol_micro: Micropore volume (cm3/g)\n",
        "\n",
        "Temp: Temperature of CO2 Capture (°C)\n",
        "\n",
        "**Target variable**\n",
        "\n",
        "CO2_Uptake: CO2 capture (mmol/g)."
      ]
    },
    {
      "cell_type": "markdown",
      "metadata": {
        "id": "1_UXHtabUPkP"
      },
      "source": [
        "## **Linear correlation**"
      ]
    },
    {
      "cell_type": "code",
      "execution_count": null,
      "metadata": {
        "colab": {
          "base_uri": "https://localhost:8080/"
        },
        "id": "KndAusGtsT7N",
        "outputId": "38e415ed-741c-4d15-bd89-c86e2434b604"
      },
      "outputs": [],
      "source": [
        "df.head()"
      ]
    },
    {
      "cell_type": "markdown",
      "metadata": {
        "id": "_dOyeKE2AesY"
      },
      "source": [
        "### Normality tests"
      ]
    },
    {
      "cell_type": "markdown",
      "metadata": {
        "id": "b38jbpVpBSrN"
      },
      "source": [
        "Shapiro-Wilk test (Small number of samples, n < 30)"
      ]
    },
    {
      "cell_type": "markdown",
      "metadata": {
        "id": "UBCGqxZiCKzR"
      },
      "source": [
        "Ho = Normal distribuition : p > 0.05\n",
        "\n",
        "Ha = Non normal distribuition : p <= 0.05"
      ]
    },
    {
      "cell_type": "markdown",
      "metadata": {},
      "source": [
        "### CO2 Uptake"
      ]
    },
    {
      "cell_type": "code",
      "execution_count": null,
      "metadata": {
        "colab": {
          "base_uri": "https://localhost:8080/"
        },
        "id": "5wcDiCVBL5Ax",
        "outputId": "2deaf12d-9558-4424-d5c1-6fa68e1bef7f"
      },
      "outputs": [],
      "source": [
        "#Shapiro-wilk test\n",
        "\n",
        "stats.shapiro(df[\"CO2_Uptake\"])"
      ]
    },
    {
      "cell_type": "code",
      "execution_count": null,
      "metadata": {},
      "outputs": [],
      "source": [
        "# Create a figure\n",
        "fig1 = plt.figure(figsize=(8, 6))\n",
        "\n",
        "# Create an only axis on figure\n",
        "ax1 = fig1.add_axes([0.1, 0.1, 0.8, 0.8])  \n",
        "\n",
        "# Set histogram at x axis\n",
        "ax1.hist(df[\"CO2_Uptake\"], bins=10, edgecolor='k')\n",
        "ax1.set_xlabel('CO$_2$ Uptake (mmol/g)')\n",
        "ax1.set_ylabel('Counts')\n",
        "\n",
        "# Create figure 2 \n",
        "inset_ax = fig1.add_axes([0.58, 0.55, 0.3, 0.3])  \n",
        "stats.probplot(df['CO2_Uptake'], dist=\"norm\", plot=inset_ax)\n",
        "inset_ax.set_title(\"Normal Q-Q plot\")\n",
        "\n",
        "# Add text\n",
        "fig1.text(0.15, 0.8, 'Shapiro-wilk results\\np-value = 0.36', fontsize=12, color='k')\n",
        "\n",
        "# show figure\n",
        "plt.show()\n",
        "\n"
      ]
    },
    {
      "cell_type": "markdown",
      "metadata": {},
      "source": [
        "### BET"
      ]
    },
    {
      "cell_type": "code",
      "execution_count": null,
      "metadata": {
        "colab": {
          "base_uri": "https://localhost:8080/"
        },
        "id": "2CtpuM8PFyio",
        "outputId": "9733d433-87f8-4c60-e4e5-5c2172fab891"
      },
      "outputs": [],
      "source": [
        "estatistica, p = stats.shapiro(df[\"BET\"])\n",
        "print('statistics of test: {}'.format(estatistica))\n",
        "print('p-valor: {}'.format(p))"
      ]
    },
    {
      "cell_type": "code",
      "execution_count": null,
      "metadata": {},
      "outputs": [],
      "source": [
        "\n",
        "fig1 = plt.figure(figsize=(8, 6))\n",
        "\n",
        "\n",
        "ax1 = fig1.add_axes([0.1, 0.1, 0.8, 0.8])  \n",
        "\n",
        "\n",
        "ax1.hist(df[\"BET\"], bins=5, edgecolor='k')\n",
        "ax1.set_xlabel('BET surface area (m²/g)')\n",
        "ax1.set_ylabel('Counts')\n",
        "\n",
        "\n",
        "inset_ax = fig1.add_axes([0.2, 0.63, 0.2, 0.2])  # Define as coordenadas para o subplot da figura 2\n",
        "stats.probplot(df['BET'], dist=\"norm\", plot=inset_ax)\n",
        "inset_ax.set_title(\"Normal Q-Q plot\")\n",
        "\n",
        "\n",
        "fig1.text(0.725, 0.8, 'Shapiro-wilk results\\np-value = 0.04', fontsize=10, color='k')\n",
        "\n",
        "plt.show()"
      ]
    },
    {
      "cell_type": "markdown",
      "metadata": {},
      "source": [
        "### Vol_micro"
      ]
    },
    {
      "cell_type": "code",
      "execution_count": null,
      "metadata": {
        "colab": {
          "base_uri": "https://localhost:8080/"
        },
        "id": "Qmbgy-Ie3id8",
        "outputId": "24fb22c3-077b-4e85-9329-88398dbbbaf8"
      },
      "outputs": [],
      "source": [
        "estatistica, p = stats.shapiro(df[\"Vol_micro\"])\n",
        "print('Statistics of test: {}'.format(estatistica))\n",
        "print('p-valor: {}'.format(p))"
      ]
    },
    {
      "cell_type": "code",
      "execution_count": null,
      "metadata": {},
      "outputs": [],
      "source": [
        "#create figure\n",
        "\n",
        "fig1 = plt.figure(figsize=(8, 6))\n",
        "\n",
        "ax1 = fig1.add_axes([0.1, 0.1, 0.8, 0.8])  # Define as coordenadas [left, bottom, width, height] do eixo\n",
        "\n",
        "ax1.hist(df[\"Vol_micro\"], bins=9, edgecolor='k')\n",
        "ax1.set_xlabel('Micropore volume (cm³/g)')\n",
        "ax1.set_ylabel('Counts')\n",
        "\n",
        "inset_ax = fig1.add_axes([0.2, 0.6, 0.25, 0.25])  # Define as coordenadas para o subplot da figura 2\n",
        "stats.probplot(df['Vol_micro'], dist=\"norm\", plot=inset_ax)\n",
        "inset_ax.set_title(\"Normal Q-Q plot\")\n",
        "\n",
        "fig1.text(0.68, 0.8, 'Shapiro-wilk results\\np-value = 0.015', fontsize=12, color='k')\n",
        "\n",
        "plt.show()"
      ]
    },
    {
      "cell_type": "markdown",
      "metadata": {},
      "source": [
        "### Temp"
      ]
    },
    {
      "cell_type": "code",
      "execution_count": null,
      "metadata": {
        "colab": {
          "base_uri": "https://localhost:8080/"
        },
        "id": "0-fjsQBK3id7",
        "outputId": "36fca97e-b0d0-4600-ad57-05f22ef2fc31"
      },
      "outputs": [],
      "source": [
        "estatistica, p = stats.shapiro(df[\"Temp\"])\n",
        "print('Statistic of test: {}'.format(estatistica))\n",
        "print('p-valor: {}'.format(p))"
      ]
    },
    {
      "cell_type": "code",
      "execution_count": null,
      "metadata": {},
      "outputs": [],
      "source": [
        "#create figure\n",
        "\n",
        "fig1 = plt.figure(figsize=(8, 6))\n",
        "\n",
        "ax1 = fig1.add_axes([0.1, 0.1, 0.8, 0.8])  # Define as coordenadas [left, bottom, width, height] do eixo\n",
        "\n",
        "ax1.hist(df[\"Temp\"], bins=4, edgecolor='k')\n",
        "ax1.set_xlabel('Adsorption temperature (°C)')\n",
        "ax1.set_ylabel('Counts')\n",
        "\n",
        "inset_ax = fig1.add_axes([0.28, 0.66, 0.19, 0.19])  # Define as coordenadas para o subplot da figura 2\n",
        "stats.probplot(df['Temp'], dist=\"norm\", plot=inset_ax)\n",
        "inset_ax.set_title(\"Normal Q-Q plot\")\n",
        "\n",
        "fig1.text(0.69, 0.8, 'Shapiro-wilk results\\np-value = 4.69e-08', fontsize=12, color='k')\n",
        "\n",
        "plt.show()"
      ]
    },
    {
      "cell_type": "markdown",
      "metadata": {},
      "source": [
        "\n",
        "Normal distribution: CO2 Uptake\n"
      ]
    },
    {
      "cell_type": "markdown",
      "metadata": {},
      "source": [
        "Non normal distributionl: BET, Vol_micro, Temp"
      ]
    },
    {
      "cell_type": "markdown",
      "metadata": {
        "id": "uq5tgQBfnKEW"
      },
      "source": [
        "### Linear correlation"
      ]
    },
    {
      "cell_type": "markdown",
      "metadata": {
        "id": "AINeGYMRQPdW"
      },
      "source": [
        "Pearson (normal distribution)\n",
        "\n",
        "Spearman (non normal distribution)\n",
        "\n",
        "Kendall (non normal distribution with small amount of samples)"
      ]
    },
    {
      "cell_type": "markdown",
      "metadata": {
        "id": "zqLl2LgkQbs3"
      },
      "source": [
        "Ho = There is no linear correlation: p > 0,05\n",
        "\n",
        "Ha = There is a linear correlation: p <= 0,05"
      ]
    },
    {
      "cell_type": "code",
      "execution_count": null,
      "metadata": {},
      "outputs": [],
      "source": [
        "# Pearson\n",
        "coef,p = stats.pearsonr(df[\"CO2_Uptake\"], df[\"Temp\"])\n",
        "print('Coeficiente de correlação: {}'.format(coef))\n",
        "print('p-valor: {}'.format(p))"
      ]
    },
    {
      "cell_type": "code",
      "execution_count": null,
      "metadata": {
        "colab": {
          "base_uri": "https://localhost:8080/"
        },
        "id": "w6Wcby_cRHHg",
        "outputId": "5e62f02c-8512-4336-c8cd-037022d1d0fd"
      },
      "outputs": [],
      "source": [
        "#  Kendall\n",
        "correlacoes = df[[\"CO2_Uptake\", \"BET\", \"Vol_micro\", \"Temp\"]].corr(method='kendall')\n",
        "correlacoes"
      ]
    },
    {
      "cell_type": "code",
      "execution_count": null,
      "metadata": {},
      "outputs": [],
      "source": [
        "plt.figure()\n",
        "sns.heatmap(correlacoes, annot=True, cmap = sns.color_palette(\"ch:start=.2,rot=-.3\", as_cmap=True));"
      ]
    },
    {
      "cell_type": "markdown",
      "metadata": {
        "id": "S3Hp7kQK9KaY"
      },
      "source": [
        "## **Simple linear regression**"
      ]
    },
    {
      "cell_type": "markdown",
      "metadata": {
        "id": "Btt5b0gt0tAz"
      },
      "source": [
        "### Show R2 of each variable"
      ]
    },
    {
      "cell_type": "code",
      "execution_count": null,
      "metadata": {
        "id": "uTt4DY04DavB"
      },
      "outputs": [],
      "source": [
        "df.head(2)"
      ]
    },
    {
      "cell_type": "code",
      "execution_count": null,
      "metadata": {
        "id": "r-ghCIWu0PM0"
      },
      "outputs": [],
      "source": [
        "# BET\n",
        "x1 = df.iloc[:,2:3].values\n",
        "\n",
        "# Vol_micro\n",
        "x2 = df.iloc[:,3:4].values\n",
        "\n",
        "# Temp\n",
        "x3 = df.iloc[:,4:5].values"
      ]
    },
    {
      "cell_type": "code",
      "execution_count": null,
      "metadata": {
        "id": "7S0eXs3R0dZe"
      },
      "outputs": [],
      "source": [
        "# CO2 Uptake\n",
        "y = df.iloc[:, 1].values\n"
      ]
    },
    {
      "cell_type": "code",
      "execution_count": null,
      "metadata": {},
      "outputs": [],
      "source": [
        "    #R2 for BET\n",
        "    model_BET = LinearRegression()\n",
        "    model_BET.fit(x1, y)\n",
        "    R2_BET = model_BET.score(x1, y)\n",
        "    R2_BET"
      ]
    },
    {
      "cell_type": "code",
      "execution_count": null,
      "metadata": {},
      "outputs": [],
      "source": [
        "   #R2 for Vol_micro\n",
        "   model_micro = LinearRegression()\n",
        "   model_micro.fit(x2, y)\n",
        "   R2_micro = model_micro.score(x2, y)\n",
        "   R2_micro"
      ]
    },
    {
      "cell_type": "code",
      "execution_count": null,
      "metadata": {},
      "outputs": [],
      "source": [
        "   #R2 for Temp\n",
        "   model_temp = LinearRegression()\n",
        "   model_temp.fit(x3, y)\n",
        "   R2_temp = model_temp.score(x3, y)\n",
        "   R2_temp"
      ]
    },
    {
      "cell_type": "markdown",
      "metadata": {
        "id": "LmzsbeX5w0lY"
      },
      "source": [
        "## **Multiple linear regression**"
      ]
    },
    {
      "cell_type": "code",
      "execution_count": null,
      "metadata": {
        "id": "f1nrMVmEyqIC"
      },
      "outputs": [],
      "source": [
        "df.head(2)"
      ]
    },
    {
      "cell_type": "code",
      "execution_count": null,
      "metadata": {
        "id": "aX8qGculivhJ"
      },
      "outputs": [],
      "source": [
        "independent = df.iloc[:, 2:5].values\n",
        "dependent = df.iloc[:, 1].values\n",
        "x_train, x_test, y_train, y_test = train_test_split(independent, dependent, test_size = 0.2, random_state = 20)\n",
        "multipla = LinearRegression()\n",
        "multipla.fit(x_train, y_train)"
      ]
    },
    {
      "cell_type": "code",
      "execution_count": null,
      "metadata": {
        "id": "wTgjt31Ep3NI"
      },
      "outputs": [],
      "source": [
        "multipla.intercept_"
      ]
    },
    {
      "cell_type": "code",
      "execution_count": null,
      "metadata": {
        "id": "9BgX7VTMuv1q"
      },
      "outputs": [],
      "source": [
        "multipla.coef_"
      ]
    },
    {
      "cell_type": "code",
      "execution_count": null,
      "metadata": {
        "id": "8nn9ATOblAPt"
      },
      "outputs": [],
      "source": [
        "print(\"Equation: CO2 Uptake = {:.2f} + ({:.2f})*BET + ({:.2f})*micro + ({:.2f})*temp\".format(multipla.intercept_, multipla.coef_[0], multipla.coef_[1], multipla.coef_[2]))"
      ]
    },
    {
      "cell_type": "markdown",
      "metadata": {},
      "source": [
        "**TRAIN**"
      ]
    },
    {
      "cell_type": "code",
      "execution_count": null,
      "metadata": {
        "id": "4n_LXotMoJpM"
      },
      "outputs": [],
      "source": [
        "# R2 for train \n",
        "multipla.score(x_train, y_train)"
      ]
    },
    {
      "cell_type": "code",
      "execution_count": null,
      "metadata": {},
      "outputs": [],
      "source": [
        "y_predict_train = multipla.predict(x_train)\n"
      ]
    },
    {
      "cell_type": "code",
      "execution_count": null,
      "metadata": {},
      "outputs": [],
      "source": [
        "# Rezise data\n",
        "y_train = y_train.reshape(-1, 1)\n",
        "y_predict_train = y_predict_train.reshape(-1, 1)\n",
        "\n",
        "# Calculate R² and RMSE\n",
        "r2 = multipla.score(x_train, y_train)\n",
        "rmse = np.sqrt(mean_squared_error(y_train, y_predict_train))\n",
        "\n",
        "# Plot dispersion graph\n",
        "plt.figure(figsize=(8, 6))\n",
        "plt.scatter(y_train, y_predict_train, color='blue', label='CO$_2$ Uptake experimental (mmol/g)')\n",
        "plt.plot([y_train.min(), y_train.max()], [y_train.min(), y_train.max()], color='red', label='CO$_2$ Uptake prediction (mmol/g)')\n",
        "plt.xlabel('CO$_2$ Uptake experimental (mmol/g)')\n",
        "plt.ylabel(\"CO$_2$ Uptake prediction (mmol/g)\")\n",
        "plt.title(\"CO$_2$ Uptake prediction for train data\")\n",
        "plt.legend()\n",
        "\n",
        "\n",
        "# Set  R² and RMSE values in the graph \n",
        "plt.text(y.min(), y.max() - 2.1, f'R² train = {r2:.2f}', fontsize=12, color='k')\n",
        "plt.text(y.min(), y.max() - 2.5, f'RMSE train = {rmse:.2f}', fontsize=12, color='k')\n",
        "\n",
        "# Show the graph\n",
        "plt.show()\n",
        "\n"
      ]
    },
    {
      "cell_type": "markdown",
      "metadata": {
        "id": "FWKwy4jE18as"
      },
      "source": [
        "**TEST**"
      ]
    },
    {
      "cell_type": "code",
      "execution_count": null,
      "metadata": {
        "id": "vS3xum5A1-Hw"
      },
      "outputs": [],
      "source": [
        "prevision = multipla.predict(x_test)\n",
        "prevision"
      ]
    },
    {
      "cell_type": "code",
      "execution_count": null,
      "metadata": {
        "id": "Ii_5SXfv2IWa"
      },
      "outputs": [],
      "source": [
        "y_test"
      ]
    },
    {
      "cell_type": "code",
      "execution_count": null,
      "metadata": {
        "id": "FS1Jm81s7E1t"
      },
      "outputs": [],
      "source": [
        "# Preditc distinct values\n",
        "CO2_value = multipla.predict([[1.7,0.0022,0]])\n",
        "CO2_value"
      ]
    },
    {
      "cell_type": "code",
      "execution_count": null,
      "metadata": {
        "id": "uyGfU-jg5n5A"
      },
      "outputs": [],
      "source": [
        "# R2 for test data\n",
        "multipla.score(x_test, y_test)"
      ]
    },
    {
      "cell_type": "code",
      "execution_count": null,
      "metadata": {},
      "outputs": [],
      "source": [
        "y_predict_test = multipla.predict(x_test)\n"
      ]
    },
    {
      "cell_type": "code",
      "execution_count": null,
      "metadata": {},
      "outputs": [],
      "source": [
        "# Rezise data\n",
        "y_test = y_test.reshape(-1, 1)\n",
        "y_predict_test = y_predict_test.reshape(-1, 1)\n",
        "\n",
        "# Calculate R² and RMSE\n",
        "r2 = multipla.score(x_test, y_test)\n",
        "rmse = np.sqrt(mean_squared_error(y_test, y_predict_test))\n",
        "\n",
        "# Plot dispersion graph\n",
        "plt.figure(figsize=(8, 6))\n",
        "plt.scatter(y_test, y_predict_test, color='blue', label='CO$_2$ Uptake experimental (mmol/g)')\n",
        "plt.plot([y_test.min(), y_test.max()], [y_test.min(), y_test.max()], color='red', label='CO$_2$ Uptake prediction (mmol/g)')\n",
        "plt.xlabel('CO$_2$ Uptake experimental (mmol/g)')\n",
        "plt.ylabel(\"CO$_2$ Uptake prediction (mmol/g)\")\n",
        "plt.title(\"CO$_2$ Uptake prediction for test data\")\n",
        "plt.legend()\n",
        "\n",
        "\n",
        "# Set  R² and RMSE values in the graph \n",
        "plt.text(y.min()+0.5, y.max() - 1.2, f'R² train = {r2:.2f}', fontsize=12, color='k')\n",
        "plt.text(y.min()+0.5, y.max() - 1.7, f'RMSE train = {rmse:.2f}', fontsize=12, color='k')\n",
        "\n",
        "# Show grahp\n",
        "plt.show()"
      ]
    },
    {
      "cell_type": "markdown",
      "metadata": {
        "id": "sSpkaLa65QBw"
      },
      "source": [
        "**METRICS**"
      ]
    },
    {
      "cell_type": "code",
      "execution_count": null,
      "metadata": {
        "id": "VzYBRKey3Gx3"
      },
      "outputs": [],
      "source": [
        "# Absolute error\n",
        "abs(y_test - prevision).mean()"
      ]
    },
    {
      "cell_type": "code",
      "execution_count": null,
      "metadata": {
        "id": "IDgsagJZ3Gx4"
      },
      "outputs": [],
      "source": [
        "# Mean absolute error\n",
        "mean_absolute_error(y_test, prevision)"
      ]
    },
    {
      "cell_type": "code",
      "execution_count": null,
      "metadata": {
        "id": "9Ji4rWpd3Gx5"
      },
      "outputs": [],
      "source": [
        "# Mean squared error\n",
        "mean_squared_error(y_test, prevision)"
      ]
    },
    {
      "cell_type": "code",
      "execution_count": null,
      "metadata": {
        "id": "T28f1ngx3Gx5"
      },
      "outputs": [],
      "source": [
        "# Root mean squared error\n",
        "np.sqrt(mean_squared_error(y_test, prevision))"
      ]
    },
    {
      "cell_type": "markdown",
      "metadata": {
        "id": "gGC6-Oz98SHi"
      },
      "source": [
        "### **Cross validation**"
      ]
    },
    {
      "cell_type": "code",
      "execution_count": null,
      "metadata": {
        "id": "ajx802o98SHk"
      },
      "outputs": [],
      "source": [
        "# Creating folds\n",
        "kfold = KFold(n_splits = 3, shuffle=True, random_state = 20)"
      ]
    },
    {
      "cell_type": "code",
      "execution_count": null,
      "metadata": {
        "id": "pHsOTmgU8SHl"
      },
      "outputs": [],
      "source": [
        "# Creating the model\n",
        "model = LinearRegression()\n",
        "result = cross_val_score(model, independent, dependent, cv = kfold)\n",
        "result\n",
        "r2_final = result.mean()\n",
        "\n",
        "print(\"Mean R2: %.2f%%\" % (result.mean() * 100.0))"
      ]
    },
    {
      "cell_type": "code",
      "execution_count": null,
      "metadata": {},
      "outputs": [],
      "source": [
        "model = LinearRegression()\n",
        "final_model = model.fit(independent, dependent)\n",
        "new_data_prediction = final_model.predict([[1.7,0.0022,0]])\n",
        "new_data_prediction"
      ]
    },
    {
      "cell_type": "code",
      "execution_count": null,
      "metadata": {},
      "outputs": [],
      "source": [
        "final_model.coef_"
      ]
    },
    {
      "cell_type": "code",
      "execution_count": null,
      "metadata": {},
      "outputs": [],
      "source": [
        "prevision = cross_val_predict(model, independent, dependent, cv = kfold)\n"
      ]
    },
    {
      "cell_type": "code",
      "execution_count": null,
      "metadata": {},
      "outputs": [],
      "source": [
        "# Create a predic colummn\n",
        "df[\"CO2 Uptake predict\"] = prevision\n",
        "df.head()"
      ]
    },
    {
      "cell_type": "code",
      "execution_count": null,
      "metadata": {},
      "outputs": [],
      "source": [
        "rmse_final = np.sqrt(mean_squared_error(df[\"CO2_Uptake\"], df[\"CO2 Uptake predict\"]))"
      ]
    },
    {
      "cell_type": "code",
      "execution_count": null,
      "metadata": {},
      "outputs": [],
      "source": [
        "# Create a graph\n",
        "\n",
        "sns.lmplot(x='CO2_Uptake', y='CO2 Uptake predict', data=df)\n",
        "plt.xlabel(\"CO$_2$ Uptake experimental (mmol/g)\")\n",
        "plt.ylabel(\"CO$_2$ Uptake  prediction (mmol/g)\")\n",
        "plt.text(y.min()+0.5, y.max() - 1.2, f'R²  = {r2_final:.2f}', fontsize=12, color='k')\n",
        "plt.text(y.min()+0.5, y.max() - 1.7, f'RMSE  = {rmse_final:.2f}', fontsize=12, color='k')\n",
        "\n",
        "# histogram of residues\n",
        "\n",
        "model = smf.ols('CO2_Uptake ~ BET + Vol_micro + Temp', data = df).fit()\n",
        "residues = model.resid\n",
        "plt.axes([0.7, 0.25, 0.25, 0.25])  # Define as coordenadas e tamanho do sub-gráfico\n",
        "plt.hist(residues, bins=10, color='lightblue', edgecolor='black', density=True)\n",
        "plt.xlabel(\"Residues\")\n",
        "plt.ylabel(\"Count\")\n",
        "sns.kdeplot(residues, color='blue', ax=plt.gca())\n",
        "\n",
        "# Show graph\n",
        "plt.show()\n"
      ]
    },
    {
      "cell_type": "markdown",
      "metadata": {
        "id": "WTK4cOLq93Uh"
      },
      "source": [
        "**MULTIPLE LINEAR REGRESSION:** R2 = 0,69/0,52; RMSE = 1.10; R2 Cross validation: 61.37%"
      ]
    },
    {
      "cell_type": "markdown",
      "metadata": {
        "id": "PCqEHnjrbVXe"
      },
      "source": [
        "### **Validation of model**"
      ]
    },
    {
      "cell_type": "code",
      "execution_count": null,
      "metadata": {
        "colab": {
          "base_uri": "https://localhost:8080/",
          "height": 206
        },
        "id": "ppyC-CsCcGu7",
        "outputId": "dd541eb6-1496-4182-e43a-a15d69ad9930"
      },
      "outputs": [],
      "source": [
        "df.head()"
      ]
    },
    {
      "cell_type": "code",
      "execution_count": null,
      "metadata": {
        "id": "LRJ3RZsQy-2y"
      },
      "outputs": [],
      "source": [
        "# creating the linear regression model with statsmodel\n",
        "model = smf.ols('CO2_Uptake ~ BET + Vol_micro + Temp', data = df).fit()"
      ]
    },
    {
      "cell_type": "code",
      "execution_count": null,
      "metadata": {
        "colab": {
          "base_uri": "https://localhost:8080/"
        },
        "id": "0_4XijxizPdh",
        "outputId": "3b808075-31cb-4300-cd0e-eb5179ff86cb"
      },
      "outputs": [],
      "source": [
        "residues = model.resid"
      ]
    },
    {
      "cell_type": "markdown",
      "metadata": {
        "id": "3foWvm3_b9xd"
      },
      "source": [
        "#### Normality test of residues"
      ]
    },
    {
      "cell_type": "markdown",
      "metadata": {
        "id": "KMt9Rnuqb9xe"
      },
      "source": [
        "Ho = normal distribution : p > 0.05\n",
        "\n",
        "Ha = non normal distribution : p <= 0.05"
      ]
    },
    {
      "cell_type": "code",
      "execution_count": null,
      "metadata": {
        "colab": {
          "base_uri": "https://localhost:8080/"
        },
        "id": "k_HEWSq6b9xf",
        "outputId": "7ec9b78c-c66e-4257-9e4a-e2573534d0df"
      },
      "outputs": [],
      "source": [
        "estatistica, p = stats.shapiro(residues)\n",
        "print('Statistics of test: {}'.format(estatistica))\n",
        "print('p-valor: {}'.format(p))"
      ]
    },
    {
      "cell_type": "code",
      "execution_count": null,
      "metadata": {
        "colab": {
          "base_uri": "https://localhost:8080/",
          "height": 295
        },
        "id": "-WTK7O-Sb9xg",
        "outputId": "dae875b8-f2fd-4c4c-9fae-065a8ac8474c"
      },
      "outputs": [],
      "source": [
        "stats.probplot(residues, dist=\"norm\", plot=plt)\n",
        "plt.title(\"Normal Q-Q plot - Resíduos\")\n",
        "plt.show()"
      ]
    },
    {
      "cell_type": "markdown",
      "metadata": {
        "id": "ayUUsJ2ub9xh"
      },
      "source": [
        "#### Homoscedasticity analysis of residuals\n"
      ]
    },
    {
      "cell_type": "code",
      "execution_count": null,
      "metadata": {
        "colab": {
          "base_uri": "https://localhost:8080/",
          "height": 279
        },
        "id": "f0XJ3L0kb9xi",
        "outputId": "c644dcd1-1817-4c76-a4c4-0038a41b2b65"
      },
      "outputs": [],
      "source": [
        "plt.scatter(y=residues, x=model.predict(), color='red')\n",
        "plt.hlines(y=0, xmin=0, xmax=8, color='orange')\n",
        "plt.ylabel('Residues')\n",
        "plt.xlabel('Predict values')\n",
        "plt.show()"
      ]
    },
    {
      "cell_type": "markdown",
      "metadata": {
        "id": "q6zC0JTCb9xi"
      },
      "source": [
        "Breusch-Pagan test (homoscedasticity or heteroscedasticity)"
      ]
    },
    {
      "cell_type": "markdown",
      "metadata": {
        "id": "3D1DR96wb9xj"
      },
      "source": [
        "Ho = There is homocedasticity : p > 0.05\n",
        "\n",
        "Ha = The is no homocedasticity : p <= 0.05"
      ]
    },
    {
      "cell_type": "code",
      "execution_count": null,
      "metadata": {
        "colab": {
          "base_uri": "https://localhost:8080/"
        },
        "id": "6Gfqghirb9xk",
        "outputId": "04866d17-493e-414e-cabe-107c0030ff68"
      },
      "outputs": [],
      "source": [
        "estatistica, p, f, fp = sms.het_breuschpagan (model.resid, model.model.exog)\n",
        "print('Statistics of test: {}'.format(estatistica))\n",
        "print('p-value: {}'.format(p))\n",
        "print('f-value: {}'.format(f))\n",
        "print('f_p-value: {}'.format(fp))"
      ]
    },
    {
      "cell_type": "markdown",
      "metadata": {
        "id": "us2buFSqdCyP"
      },
      "source": [
        "#### **Outliers in residues**"
      ]
    },
    {
      "cell_type": "markdown",
      "metadata": {
        "id": "MllW6T7tdCyQ"
      },
      "source": [
        "(Between -3 e 3)"
      ]
    },
    {
      "cell_type": "code",
      "execution_count": null,
      "metadata": {
        "id": "aOZDERDWdCyQ"
      },
      "outputs": [],
      "source": [
        "outliers = model.outlier_test()"
      ]
    },
    {
      "cell_type": "code",
      "execution_count": null,
      "metadata": {
        "colab": {
          "base_uri": "https://localhost:8080/"
        },
        "id": "mDlWpym9dCyQ",
        "outputId": "34e5eaff-bce2-4576-dde3-e584fa8c42f8"
      },
      "outputs": [],
      "source": [
        "outliers.max()"
      ]
    },
    {
      "cell_type": "code",
      "execution_count": null,
      "metadata": {
        "colab": {
          "base_uri": "https://localhost:8080/"
        },
        "id": "ffcnOdD1dCyR",
        "outputId": "c9ac3ff4-682b-4793-ed26-ceb676a8e5d6"
      },
      "outputs": [],
      "source": [
        "outliers.min()"
      ]
    },
    {
      "cell_type": "markdown",
      "metadata": {
        "id": "OFTGh67R6Xiv"
      },
      "source": [
        "#### **Ausence of multicolinearity**"
      ]
    },
    {
      "cell_type": "markdown",
      "metadata": {
        "id": "SUI8Dj6A6wCr"
      },
      "source": [
        "Only between independents variables.\n",
        "\n",
        "The is multicolinearity when r > 0.9."
      ]
    },
    {
      "cell_type": "code",
      "execution_count": null,
      "metadata": {
        "id": "LVxFkYw-6W5E"
      },
      "outputs": [],
      "source": [
        "variables = df[['BET','Vol_micro','Temp']]"
      ]
    },
    {
      "cell_type": "code",
      "execution_count": null,
      "metadata": {
        "colab": {
          "base_uri": "https://localhost:8080/",
          "height": 206
        },
        "id": "9cgwDxfl9Q-r",
        "outputId": "dd261050-6a63-45d2-d6ac-7583f895110f"
      },
      "outputs": [],
      "source": [
        "variables.head()"
      ]
    },
    {
      "cell_type": "code",
      "execution_count": null,
      "metadata": {
        "colab": {
          "base_uri": "https://localhost:8080/",
          "height": 143
        },
        "id": "ox1XAWbp7mcD",
        "outputId": "4a3781ee-89b7-4c4f-adb1-a84ef99a49e4"
      },
      "outputs": [],
      "source": [
        "correlation = variables.corr(method='kendall')\n",
        "correlation"
      ]
    },
    {
      "cell_type": "markdown",
      "metadata": {
        "id": "BmNV4E9bRkrA"
      },
      "source": [
        "#### **Model analysis**"
      ]
    },
    {
      "cell_type": "code",
      "execution_count": null,
      "metadata": {
        "colab": {
          "base_uri": "https://localhost:8080/"
        },
        "id": "UlG8rURSIXlr",
        "outputId": "3e55af1b-5139-4bd2-896c-c38a365733c0"
      },
      "outputs": [],
      "source": [
        "print(model.summary())"
      ]
    }
  ],
  "metadata": {
    "colab": {
      "name": "regressao.ipynb",
      "provenance": [],
      "toc_visible": true
    },
    "kernelspec": {
      "display_name": "Python 3",
      "name": "python3"
    },
    "language_info": {
      "codemirror_mode": {
        "name": "ipython",
        "version": 3
      },
      "file_extension": ".py",
      "mimetype": "text/x-python",
      "name": "python",
      "nbconvert_exporter": "python",
      "pygments_lexer": "ipython3",
      "version": "3.9.12"
    }
  },
  "nbformat": 4,
  "nbformat_minor": 0
}
